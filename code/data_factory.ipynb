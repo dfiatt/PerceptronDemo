{
 "cells": [
  {
   "cell_type": "code",
   "execution_count": 2,
   "id": "0faec592-dbc5-4a57-ab78-66ea5d8aef2b",
   "metadata": {},
   "outputs": [
    {
     "name": "stdout",
     "output_type": "stream",
     "text": [
      "Archivo 'data.csv' generado con 1000 registros.\n"
     ]
    }
   ],
   "source": [
    "import pandas as pd\n",
    "import numpy as np\n",
    "import random\n",
    "\n",
    "def generar_data_csv(num=1000, filename=\"data.csv\"):\n",
    "    data = []\n",
    "    for _ in range(num):\n",
    "        edad = random.randint(18, 70)\n",
    "        frecuencia = np.random.poisson(5)\n",
    "        monto_prom = max(np.round(np.random.normal(120, 40), 2), 0)  # no negativos\n",
    "\n",
    "        data.append({\n",
    "            \"edad\": edad,\n",
    "            \"frecuencia\": frecuencia,\n",
    "            \"monto_prom\": monto_prom,\n",
    "        })\n",
    "\n",
    "    df = pd.DataFrame(data)\n",
    "    df.to_csv(filename, index=False)\n",
    "    print(f\"Archivo '{filename}' generado con {num} registros.\")\n",
    "\n",
    "if __name__ == \"__main__\":\n",
    "    generar_data_csv()"
   ]
  },
  {
   "cell_type": "code",
   "execution_count": null,
   "id": "e4a7d332-008e-4f0e-9145-cb27616988c4",
   "metadata": {},
   "outputs": [],
   "source": []
  }
 ],
 "metadata": {
  "kernelspec": {
   "display_name": "Python [conda env:base] *",
   "language": "python",
   "name": "conda-base-py"
  },
  "language_info": {
   "codemirror_mode": {
    "name": "ipython",
    "version": 3
   },
   "file_extension": ".py",
   "mimetype": "text/x-python",
   "name": "python",
   "nbconvert_exporter": "python",
   "pygments_lexer": "ipython3",
   "version": "3.13.5"
  }
 },
 "nbformat": 4,
 "nbformat_minor": 5
}
