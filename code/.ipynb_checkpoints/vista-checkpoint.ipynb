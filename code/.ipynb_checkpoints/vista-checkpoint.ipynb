{
 "cells": [
  {
   "cell_type": "code",
   "execution_count": 6,
   "id": "267e9f63-c64f-48db-b679-52bc051a2c90",
   "metadata": {},
   "outputs": [
    {
     "name": "stdin",
     "output_type": "stream",
     "text": [
      "Ingrese tipo de producto (ej: Herramientas, Electrónica, Deportes, etc):  Electrónica\n",
      "Ingrese monto del producto:  100\n"
     ]
    },
    {
     "name": "stdout",
     "output_type": "stream",
     "text": [
      "\n",
      "Se seleccionaron 148 candidatos que prefieren 'Electrónica' y gastan al menos 100.0\n",
      "\n",
      "Clientes receptivos:\n",
      "     edad  frecuencia  monto_prom  prediccion  real  acierto\n",
      "34   20.0        10.0      125.84           1     1     True\n",
      "111  32.0        10.0      101.10           1     1     True\n",
      "123  21.0        10.0      100.72           1     1     True\n",
      "132  21.0        10.0      103.39           1     1     True\n",
      "\n",
      "Clientes no receptivos:\n",
      "     edad  frecuencia  monto_prom  prediccion  real  acierto\n",
      "0    52.0         6.0      159.09           0     1    False\n",
      "1    47.0         2.0      150.72           0     0     True\n",
      "2    18.0         3.0      107.19           0     0     True\n",
      "3    55.0         7.0      134.07           0     1    False\n",
      "4    64.0         5.0      199.55           0     0     True\n",
      "..    ...         ...         ...         ...   ...      ...\n",
      "143  55.0         4.0      144.30           0     0     True\n",
      "144  57.0         3.0      165.65           0     0     True\n",
      "145  39.0         5.0      182.78           0     0     True\n",
      "146  44.0         4.0      166.18           0     0     True\n",
      "147  23.0         4.0      126.28           0     0     True\n",
      "\n",
      "[144 rows x 6 columns]\n",
      "\n",
      "Porcentaje promedio de clientes receptivos: 2.70%\n",
      "Porcentaje promedio de aciertos del perceptrón: 63.51%\n"
     ]
    },
    {
     "data": {
      "image/png": "[encoded data removed]",
      "text/plain": [
       "<Figure size 640x480 with 1 Axes>"
      ]
     },
     "metadata": {},
     "output_type": "display_data"
    }
   ],
   "source": [
    "import matplotlib.pyplot as plt\n",
    "from perceptron import Perceptron\n",
    "from filtro import FiltroCandidatos\n",
    "import pandas as pd\n",
    "import numpy as np\n",
    "import matplotlib.pyplot as plt\n",
    "\n",
    "def main():\n",
    "    filtro = FiltroCandidatos()\n",
    "\n",
    "    tipo_producto = input(\"Ingrese tipo de producto (ej: Herramientas, Electrónica, Deportes, etc): \").strip()\n",
    "    monto_producto = float(input(\"Ingrese monto del producto: \"))\n",
    "\n",
    "    candidatos = filtro.filtrar(\n",
    "        monto_min=monto_producto,\n",
    "        categorias=[tipo_producto]\n",
    "    )\n",
    "\n",
    "    print(f\"\\nSe seleccionaron {len(candidatos)} candidatos que prefieren '{tipo_producto}' y gastan al menos {monto_producto}\")\n",
    "\n",
    "    if len(candidatos) == 0:\n",
    "        print(\"No hay candidatos para analizar. Finalizando programa.\")\n",
    "        return\n",
    "\n",
    "    X = candidatos[[\"edad\", \"frecuencia\", \"monto_prom\"]].values\n",
    "    y = np.where((candidatos[\"frecuencia\"] > 5) & (candidatos[\"monto_prom\"] > 100), 1, 0)\n",
    "\n",
    "    perceptron = Perceptron(input_size=3, learning_rate=0.001, epochs=50)\n",
    "    perceptron.fit(X, y)\n",
    "    perceptron.save()\n",
    "\n",
    "    resultados = []\n",
    "    for i, x in enumerate(X):\n",
    "        pred = perceptron.predict(x)\n",
    "        resultados.append({\n",
    "            \"edad\": x[0],\n",
    "            \"frecuencia\": x[1],\n",
    "            \"monto_prom\": x[2],\n",
    "            \"prediccion\": pred,\n",
    "            \"real\": y[i],\n",
    "            \"acierto\": pred == y[i]\n",
    "        })\n",
    "\n",
    "    df_resultados = pd.DataFrame(resultados)\n",
    "\n",
    "    print(\"\\nClientes receptivos:\")\n",
    "    print(df_resultados[df_resultados[\"prediccion\"] == 1])\n",
    "\n",
    "    print(\"\\nClientes no receptivos:\")\n",
    "    print(df_resultados[df_resultados[\"prediccion\"] == 0])\n",
    "\n",
    "    # --- NUEVO: Mostrar porcentaje de receptividad y acierto ---\n",
    "    receptividad_promedio = df_resultados[\"prediccion\"].mean() * 100\n",
    "    acierto_promedio = df_resultados[\"acierto\"].mean() * 100\n",
    "\n",
    "    print(f\"\\nPorcentaje promedio de clientes receptivos: {receptividad_promedio:.2f}%\")\n",
    "    print(f\"Porcentaje promedio de aciertos del perceptrón: {acierto_promedio:.2f}%\")\n",
    "\n",
    "    # Graficar\n",
    "    etiquetas = ['Receptivos', 'No Receptivos']\n",
    "    cantidades = [df_resultados[\"prediccion\"].sum(), len(df_resultados) - df_resultados[\"prediccion\"].sum()]\n",
    "\n",
    "    plt.bar(etiquetas, cantidades, color=['purple', 'black'])\n",
    "    plt.title('Cantidad de Clientes Receptivos y No Receptivos')\n",
    "    plt.ylabel('Número de Clientes')\n",
    "    plt.show()\n",
    "\n",
    "\n",
    "if __name__ == \"__main__\":\n",
    "    main()"
   ]
  },
  {
   "cell_type": "code",
   "execution_count": null,
   "id": "7e0d4b8c-457d-45e7-9186-5fc872af2b45",
   "metadata": {},
   "outputs": [],
   "source": []
  }
 ],
 "metadata": {
  "kernelspec": {
   "display_name": "Python 3 (ipykernel)",
   "language": "python",
   "name": "python3"
  },
  "language_info": {
   "codemirror_mode": {
    "name": "ipython",
    "version": 3
   },
   "file_extension": ".py",
   "mimetype": "text/x-python",
   "name": "python",
   "nbconvert_exporter": "python",
   "pygments_lexer": "ipython3",
   "version": "3.12.8"
  }
 },
 "nbformat": 4,
 "nbformat_minor": 5
}
