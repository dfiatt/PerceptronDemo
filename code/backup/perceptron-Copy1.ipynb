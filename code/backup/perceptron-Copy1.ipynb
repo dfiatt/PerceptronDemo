{
 "cells": [
  {
   "cell_type": "code",
   "execution_count": 2,
   "id": "691719cd-7442-433b-b8c7-f7340ae6fc94",
   "metadata": {},
   "outputs": [
    {
     "name": "stdout",
     "output_type": "stream",
     "text": [
      "Entrenamiento completo y modelo guardado.\n"
     ]
    }
   ],
   "source": [
    "import numpy as np\n",
    "import pickle\n",
    "import csv\n",
    "\n",
    "class Perceptron:\n",
    "    def __init__(self, input_size, learning_rate=0.01, epochs=10):\n",
    "        self.w = np.zeros(input_size)\n",
    "        self.b = 0\n",
    "        self.lr = learning_rate\n",
    "        self.epochs = epochs\n",
    "\n",
    "    def activation(self, z):\n",
    "        return 1 if z > 0 else 0\n",
    "\n",
    "    def predict(self, x):\n",
    "        z = np.dot(self.w, x) + self.b\n",
    "        return self.activation(z)\n",
    "\n",
    "    def fit(self, X, y):\n",
    "        for _ in range(self.epochs):\n",
    "            for xi, target in zip(X, y):\n",
    "                z = np.dot(self.w, xi) + self.b\n",
    "                y_hat = self.activation(z)\n",
    "                update = self.lr * (target - y_hat)\n",
    "                self.w += update * xi\n",
    "                self.b += update\n",
    "\n",
    "# Cargar datos desde CSV\n",
    "X = []\n",
    "y = []\n",
    "with open(\"data.csv\", \"r\") as file:\n",
    "    reader = csv.DictReader(file)\n",
    "    for row in reader:\n",
    "        # Convertir cada característica a numérico, asumiendo columnas 'age', 'freq', 'spent', 'label'\n",
    "        X.append([float(row['age']), float(row['freq']), float(row['spent'])])\n",
    "        y.append(int(row['label']))\n",
    "\n",
    "X = np.array(X)\n",
    "y = np.array(y)\n",
    "\n",
    "# Entrenar modelo\n",
    "perceptron = Perceptron(input_size=3, learning_rate=0.001, epochs=20)\n",
    "perceptron.fit(X, y)\n",
    "\n",
    "# Guardar modelo entrenado\n",
    "with open(\"perceptron_model.pkl\", \"wb\") as f:\n",
    "    pickle.dump(perceptron, f)\n",
    "\n",
    "print(\"Entrenamiento completo y modelo guardado.\")\n"
   ]
  },
  {
   "cell_type": "code",
   "execution_count": null,
   "id": "8abbbb4d-1492-4352-a414-38a7c02d629d",
   "metadata": {},
   "outputs": [],
   "source": []
  }
 ],
 "metadata": {
  "kernelspec": {
   "display_name": "Python 3 (ipykernel)",
   "language": "python",
   "name": "python3"
  },
  "language_info": {
   "codemirror_mode": {
    "name": "ipython",
    "version": 3
   },
   "file_extension": ".py",
   "mimetype": "text/x-python",
   "name": "python",
   "nbconvert_exporter": "python",
   "pygments_lexer": "ipython3",
   "version": "3.12.8"
  }
 },
 "nbformat": 4,
 "nbformat_minor": 5
}
